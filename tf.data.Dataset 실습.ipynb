{
 "cells": [
  {
   "cell_type": "markdown",
   "metadata": {},
   "source": [
    "## [step1] 필요 패키지 import"
   ]
  },
  {
   "cell_type": "code",
   "execution_count": 1,
   "metadata": {},
   "outputs": [],
   "source": [
    "import tensorflow as tf\n",
    "import numpy as np"
   ]
  },
  {
   "cell_type": "markdown",
   "metadata": {},
   "source": [
    "## [step2] tf.data.Dataset.from_tensor_slices"
   ]
  },
  {
   "cell_type": "code",
   "execution_count": 2,
   "metadata": {},
   "outputs": [
    {
     "name": "stdout",
     "output_type": "stream",
     "text": [
      "<BatchDataset shapes: (None,), types: tf.int32>\n"
     ]
    }
   ],
   "source": [
    "data = [1, 2, 3, 4, 5, 6]\n",
    "\n",
    "ds_tensors = tf.data.Dataset.from_tensor_slices(data)\n",
    "ds_tensors = ds_tensors.map(tf.square).shuffle(2,seed=1337).batch(2) \n",
    "\n",
    "print(ds_tensors)"
   ]
  },
  {
   "cell_type": "code",
   "execution_count": 3,
   "metadata": {},
   "outputs": [
    {
     "name": "stdout",
     "output_type": "stream",
     "text": [
      "ds_tensors 요소:\n",
      "tf.Tensor([1 9], shape=(2,), dtype=int32)\n",
      "tf.Tensor([ 4 25], shape=(2,), dtype=int32)\n",
      "tf.Tensor([16 36], shape=(2,), dtype=int32)\n"
     ]
    }
   ],
   "source": [
    "# 알아서 배치 단위로 나눠짐 + tf.square 한번에 적용됨\n",
    "print('ds_tensors 요소:')\n",
    "for x in ds_tensors:\n",
    "    print(x)"
   ]
  },
  {
   "cell_type": "code",
   "execution_count": 8,
   "metadata": {},
   "outputs": [
    {
     "name": "stdout",
     "output_type": "stream",
     "text": [
      "<TensorSliceDataset shapes: ((), ()), types: (tf.int32, tf.int32)>\n"
     ]
    }
   ],
   "source": [
    "data = np.array([1,2,3])\n",
    "label = tf.constant([1,0,1])\n",
    "ds_tensors = tf.data.Dataset.from_tensor_slices((data,label))\n",
    "print(ds_tensors)"
   ]
  },
  {
   "cell_type": "code",
   "execution_count": 10,
   "metadata": {},
   "outputs": [
    {
     "name": "stdout",
     "output_type": "stream",
     "text": [
      "ds_tensors 요소:\n",
      "tf.Tensor(1, shape=(), dtype=int32) tf.Tensor(1, shape=(), dtype=int32)\n",
      "tf.Tensor(2, shape=(), dtype=int32) tf.Tensor(0, shape=(), dtype=int32)\n",
      "tf.Tensor(3, shape=(), dtype=int32) tf.Tensor(1, shape=(), dtype=int32)\n"
     ]
    }
   ],
   "source": [
    "print('ds_tensors 요소:')\n",
    "for datas,label in ds_tensors:\n",
    "    print(datas,label)"
   ]
  },
  {
   "cell_type": "markdown",
   "metadata": {},
   "source": [
    "## [step3] tf.data.Dataset.from_generator"
   ]
  },
  {
   "cell_type": "code",
   "execution_count": 14,
   "metadata": {},
   "outputs": [],
   "source": [
    "## 예시 generator만들기\n",
    "## 매 iteration마다 size 5의 데이터셋 생성 \n",
    "def generator():\n",
    "    i = 0\n",
    "    while True:\n",
    "        i += 1\n",
    "        yield i,np.random.normal(size=(5,))"
   ]
  },
  {
   "cell_type": "code",
   "execution_count": 15,
   "metadata": {
    "scrolled": true
   },
   "outputs": [
    {
     "name": "stdout",
     "output_type": "stream",
     "text": [
      "[-0.21446993 -0.30019629  0.27384571  0.18406654 -1.2370853 ]\n",
      "[-0.57960261  0.6260057   0.14134328 -0.04743251 -0.77035223]\n",
      "[-0.44897354 -0.23336105 -0.13403598  0.37024056  0.18414725]\n"
     ]
    }
   ],
   "source": [
    "for i,data in generator():\n",
    "    if i==4:\n",
    "        break\n",
    "    else:\n",
    "        print(data)"
   ]
  },
  {
   "cell_type": "code",
   "execution_count": 16,
   "metadata": {},
   "outputs": [
    {
     "name": "stdout",
     "output_type": "stream",
     "text": [
      "tf.Tensor([2 3], shape=(2,), dtype=int32) tf.Tensor(\n",
      "[[-1.4653198   0.0450115   1.3250165   1.1400386   1.4883908 ]\n",
      " [-0.9571643   1.4044256  -0.9744767   0.5907449   0.11195796]], shape=(2, 5), dtype=float32)\n",
      "tf.Tensor([4 1], shape=(2,), dtype=int32) tf.Tensor(\n",
      "[[ 0.22942866 -0.36993876  0.6292869  -1.0530798  -0.13331817]\n",
      " [-1.5747483  -0.09895548  0.4214286   0.19795027 -0.6644921 ]], shape=(2, 5), dtype=float32)\n"
     ]
    }
   ],
   "source": [
    "dataset=tf.data.Dataset.from_generator(generator,\n",
    "                                    output_types=(tf.int32,tf.float32)\n",
    "                                    ,output_shapes=((),(None,))) ## output shape,type 명시해 줘야함\n",
    "\n",
    "dataset=dataset.shuffle(2).batch(2) # batch, map,shuffle 동일하게 적용가능\n",
    "count = 0\n",
    "for i,data in dataset:\n",
    "    if count == 2:\n",
    "        break\n",
    "    count += 1    \n",
    "    print(i,data)                               "
   ]
  },
  {
   "cell_type": "code",
   "execution_count": 17,
   "metadata": {},
   "outputs": [
    {
     "name": "stdout",
     "output_type": "stream",
     "text": [
      "size: 6 [ 0.6996667  -2.37343738 -0.51912281 -0.85889919 -0.0917889  -1.66402974]\n",
      "size: 4 [0.27394016 1.74123595 0.14564884 0.40191271]\n",
      "size: 1 [0.21308418]\n"
     ]
    }
   ],
   "source": [
    "def generator():\n",
    "    i = 0\n",
    "    while True:\n",
    "        i += 1\n",
    "        size = np.random.randint(0,10)\n",
    "        yield i,np.random.normal(size=(size,))\n",
    "for i,data in generator():\n",
    "    if i==4:\n",
    "        break\n",
    "    else:\n",
    "        print(\"size:\",len(data),data)"
   ]
  },
  {
   "cell_type": "code",
   "execution_count": 18,
   "metadata": {},
   "outputs": [
    {
     "data": {
      "text/plain": [
       "(<tf.Tensor: id=154, shape=(4,), dtype=int32, numpy=array([1, 2, 3, 4])>,\n",
       " <tf.Tensor: id=155, shape=(4, 7), dtype=float32, numpy=\n",
       " array([[-0.5757371 ,  0.13540089,  0.00243155, -1.1434231 ,  1.0883269 ,\n",
       "          0.4876261 ,  0.        ],\n",
       "        [-0.30536646,  0.6795862 , -0.42502084,  0.46519905,  0.718154  ,\n",
       "         -0.9253375 ,  0.41803196],\n",
       "        [ 0.        ,  0.        ,  0.        ,  0.        ,  0.        ,\n",
       "          0.        ,  0.        ],\n",
       "        [ 1.1269614 ,  0.9358637 , -0.47013015,  0.7901065 ,  0.        ,\n",
       "          0.        ,  0.        ]], dtype=float32)>)"
      ]
     },
     "execution_count": 18,
     "metadata": {},
     "output_type": "execute_result"
    }
   ],
   "source": [
    "## padded_batch를 활용한 제로패딩\n",
    "\n",
    "dataset=tf.data.Dataset.from_generator(generator,\n",
    "                                    output_types=(tf.int32,tf.float32)\n",
    "                                    ,output_shapes=((),(None,)))\n",
    "dataset = dataset.padded_batch(4,padded_shapes=([],[None]))\n",
    "next(iter(dataset))                            "
   ]
  },
  {
   "cell_type": "code",
   "execution_count": null,
   "metadata": {},
   "outputs": [],
   "source": []
  }
 ],
 "metadata": {
  "kernelspec": {
   "display_name": "Python 3",
   "language": "python",
   "name": "python3"
  },
  "language_info": {
   "codemirror_mode": {
    "name": "ipython",
    "version": 3
   },
   "file_extension": ".py",
   "mimetype": "text/x-python",
   "name": "python",
   "nbconvert_exporter": "python",
   "pygments_lexer": "ipython3",
   "version": "3.7.1"
  }
 },
 "nbformat": 4,
 "nbformat_minor": 2
}
