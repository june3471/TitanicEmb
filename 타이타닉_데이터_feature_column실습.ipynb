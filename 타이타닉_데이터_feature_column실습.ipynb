{
 "cells": [
  {
   "cell_type": "code",
   "execution_count": 126,
   "metadata": {},
   "outputs": [],
   "source": [
    "import pandas as pd\n",
    "import tensorflow as tf\n",
    "%matplotlib inline\n",
    "import matplotlib.pyplot as plt\n",
    "import numpy as np\n",
    "from sklearn.model_selection import train_test_split"
   ]
  },
  {
   "cell_type": "code",
   "execution_count": 71,
   "metadata": {},
   "outputs": [],
   "source": [
    "data = pd.read_excel(\"타이타닉_data.xlsx\",sheet_name=\"train\")\n",
    "test = pd.read_excel(\"타이타닉_data.xlsx\",sheet_name=\"test\")"
   ]
  },
  {
   "cell_type": "code",
   "execution_count": 9,
   "metadata": {
    "scrolled": true
   },
   "outputs": [
    {
     "data": {
      "text/html": [
       "<div>\n",
       "<style scoped>\n",
       "    .dataframe tbody tr th:only-of-type {\n",
       "        vertical-align: middle;\n",
       "    }\n",
       "\n",
       "    .dataframe tbody tr th {\n",
       "        vertical-align: top;\n",
       "    }\n",
       "\n",
       "    .dataframe thead th {\n",
       "        text-align: right;\n",
       "    }\n",
       "</style>\n",
       "<table border=\"1\" class=\"dataframe\">\n",
       "  <thead>\n",
       "    <tr style=\"text-align: right;\">\n",
       "      <th></th>\n",
       "      <th>pclass</th>\n",
       "      <th>name</th>\n",
       "      <th>sex</th>\n",
       "      <th>age</th>\n",
       "      <th>sibsp</th>\n",
       "      <th>parch</th>\n",
       "      <th>ticket</th>\n",
       "      <th>fare</th>\n",
       "      <th>embarked</th>\n",
       "      <th>survival</th>\n",
       "    </tr>\n",
       "  </thead>\n",
       "  <tbody>\n",
       "    <tr>\n",
       "      <th>0</th>\n",
       "      <td>2</td>\n",
       "      <td>Lehmann, Miss. Bertha</td>\n",
       "      <td>Female</td>\n",
       "      <td>17</td>\n",
       "      <td>0</td>\n",
       "      <td>0</td>\n",
       "      <td>SC 1748</td>\n",
       "      <td>12.00</td>\n",
       "      <td>C</td>\n",
       "      <td>1</td>\n",
       "    </tr>\n",
       "    <tr>\n",
       "      <th>1</th>\n",
       "      <td>3</td>\n",
       "      <td>Laitinen, Miss. Kristina Sofia</td>\n",
       "      <td>Female</td>\n",
       "      <td>37</td>\n",
       "      <td>0</td>\n",
       "      <td>0</td>\n",
       "      <td>4135</td>\n",
       "      <td>9.59</td>\n",
       "      <td>S</td>\n",
       "      <td>0</td>\n",
       "    </tr>\n",
       "    <tr>\n",
       "      <th>2</th>\n",
       "      <td>3</td>\n",
       "      <td>Rosblom, Mr. Viktor Richard</td>\n",
       "      <td>Male</td>\n",
       "      <td>18</td>\n",
       "      <td>1</td>\n",
       "      <td>1</td>\n",
       "      <td>370129</td>\n",
       "      <td>20.21</td>\n",
       "      <td>S</td>\n",
       "      <td>0</td>\n",
       "    </tr>\n",
       "    <tr>\n",
       "      <th>3</th>\n",
       "      <td>3</td>\n",
       "      <td>Karaic, Mr. Milan</td>\n",
       "      <td>Male</td>\n",
       "      <td>30</td>\n",
       "      <td>0</td>\n",
       "      <td>0</td>\n",
       "      <td>349246</td>\n",
       "      <td>7.90</td>\n",
       "      <td>S</td>\n",
       "      <td>0</td>\n",
       "    </tr>\n",
       "    <tr>\n",
       "      <th>4</th>\n",
       "      <td>3</td>\n",
       "      <td>Moen, Mr. Sigurd Hansen</td>\n",
       "      <td>Male</td>\n",
       "      <td>25</td>\n",
       "      <td>0</td>\n",
       "      <td>0</td>\n",
       "      <td>348123</td>\n",
       "      <td>7.65</td>\n",
       "      <td>S</td>\n",
       "      <td>0</td>\n",
       "    </tr>\n",
       "    <tr>\n",
       "      <th>5</th>\n",
       "      <td>3</td>\n",
       "      <td>Danoff, Mr. Yoto</td>\n",
       "      <td>Male</td>\n",
       "      <td>27</td>\n",
       "      <td>0</td>\n",
       "      <td>0</td>\n",
       "      <td>349219</td>\n",
       "      <td>7.90</td>\n",
       "      <td>S</td>\n",
       "      <td>0</td>\n",
       "    </tr>\n",
       "    <tr>\n",
       "      <th>6</th>\n",
       "      <td>3</td>\n",
       "      <td>Peacock, Master. Alfred Edward</td>\n",
       "      <td>Male</td>\n",
       "      <td>1</td>\n",
       "      <td>1</td>\n",
       "      <td>1</td>\n",
       "      <td>SOTON/O.Q. 3101315</td>\n",
       "      <td>13.78</td>\n",
       "      <td>S</td>\n",
       "      <td>0</td>\n",
       "    </tr>\n",
       "    <tr>\n",
       "      <th>7</th>\n",
       "      <td>1</td>\n",
       "      <td>Payne, Mr. Vivian Ponsonby</td>\n",
       "      <td>Male</td>\n",
       "      <td>23</td>\n",
       "      <td>0</td>\n",
       "      <td>0</td>\n",
       "      <td>12749</td>\n",
       "      <td>93.50</td>\n",
       "      <td>S</td>\n",
       "      <td>0</td>\n",
       "    </tr>\n",
       "    <tr>\n",
       "      <th>8</th>\n",
       "      <td>3</td>\n",
       "      <td>Dennis, Mr. Samuel</td>\n",
       "      <td>Male</td>\n",
       "      <td>22</td>\n",
       "      <td>0</td>\n",
       "      <td>0</td>\n",
       "      <td>A/5 21172</td>\n",
       "      <td>7.25</td>\n",
       "      <td>S</td>\n",
       "      <td>0</td>\n",
       "    </tr>\n",
       "    <tr>\n",
       "      <th>9</th>\n",
       "      <td>2</td>\n",
       "      <td>Brown, Miss. Amelia \"Mildred\"</td>\n",
       "      <td>Female</td>\n",
       "      <td>24</td>\n",
       "      <td>0</td>\n",
       "      <td>0</td>\n",
       "      <td>248733</td>\n",
       "      <td>13.00</td>\n",
       "      <td>S</td>\n",
       "      <td>1</td>\n",
       "    </tr>\n",
       "  </tbody>\n",
       "</table>\n",
       "</div>"
      ],
      "text/plain": [
       "   pclass                            name     sex  age  sibsp  parch  \\\n",
       "0       2           Lehmann, Miss. Bertha  Female   17      0      0   \n",
       "1       3  Laitinen, Miss. Kristina Sofia  Female   37      0      0   \n",
       "2       3     Rosblom, Mr. Viktor Richard    Male   18      1      1   \n",
       "3       3               Karaic, Mr. Milan    Male   30      0      0   \n",
       "4       3         Moen, Mr. Sigurd Hansen    Male   25      0      0   \n",
       "5       3                Danoff, Mr. Yoto    Male   27      0      0   \n",
       "6       3  Peacock, Master. Alfred Edward    Male    1      1      1   \n",
       "7       1      Payne, Mr. Vivian Ponsonby    Male   23      0      0   \n",
       "8       3              Dennis, Mr. Samuel    Male   22      0      0   \n",
       "9       2   Brown, Miss. Amelia \"Mildred\"  Female   24      0      0   \n",
       "\n",
       "               ticket   fare embarked  survival  \n",
       "0             SC 1748  12.00        C         1  \n",
       "1                4135   9.59        S         0  \n",
       "2              370129  20.21        S         0  \n",
       "3              349246   7.90        S         0  \n",
       "4              348123   7.65        S         0  \n",
       "5              349219   7.90        S         0  \n",
       "6  SOTON/O.Q. 3101315  13.78        S         0  \n",
       "7               12749  93.50        S         0  \n",
       "8           A/5 21172   7.25        S         0  \n",
       "9              248733  13.00        S         1  "
      ]
     },
     "execution_count": 9,
     "metadata": {},
     "output_type": "execute_result"
    }
   ],
   "source": [
    "data.head(10)"
   ]
  },
  {
   "cell_type": "markdown",
   "metadata": {},
   "source": [
    "## 간단 탐색"
   ]
  },
  {
   "cell_type": "code",
   "execution_count": 27,
   "metadata": {},
   "outputs": [
    {
     "data": {
      "text/plain": [
       "<matplotlib.axes._subplots.AxesSubplot at 0x2557ee176a0>"
      ]
     },
     "execution_count": 27,
     "metadata": {},
     "output_type": "execute_result"
    },
    {
     "data": {
      "image/png": "[encoded data removed]",
      "text/plain": [
       "<Figure size 432x288 with 1 Axes>"
      ]
     },
     "metadata": {
      "needs_background": "light"
     },
     "output_type": "display_data"
    }
   ],
   "source": [
    "data[data[\"survival\"]==1][\"age\"].plot.hist(bins=15,alpha=0.5,density=True)\n",
    "data[data[\"survival\"]==0][\"age\"].plot.hist(bins=15,alpha=0.5,density=True)"
   ]
  },
  {
   "cell_type": "code",
   "execution_count": null,
   "metadata": {},
   "outputs": [],
   "source": [
    "## 0-16\n",
    "## 16-30\n",
    "## 30 -35\n",
    "## 35-40\n",
    "## 40-45\n",
    "## 45-55\n",
    "## 55-63\n",
    "## 63-"
   ]
  },
  {
   "cell_type": "code",
   "execution_count": 55,
   "metadata": {
    "scrolled": true
   },
   "outputs": [
    {
     "data": {
      "text/plain": [
       "<matplotlib.axes._subplots.AxesSubplot at 0x2557f9b3b00>"
      ]
     },
     "execution_count": 55,
     "metadata": {},
     "output_type": "execute_result"
    },
    {
     "data": {
      "image/png": "[encoded data removed]",
      "text/plain": [
       "<Figure size 432x288 with 1 Axes>"
      ]
     },
     "metadata": {
      "needs_background": "light"
     },
     "output_type": "display_data"
    }
   ],
   "source": [
    "data[data[\"survival\"]==1][\"fare\"].plot.hist(bins=15,alpha=0.5,density=True)\n",
    "data[data[\"survival\"]==0][\"fare\"].plot.hist(bins=15,alpha=0.5,density=True)"
   ]
  },
  {
   "cell_type": "code",
   "execution_count": 54,
   "metadata": {},
   "outputs": [
    {
     "data": {
      "text/plain": [
       "<matplotlib.axes._subplots.AxesSubplot at 0x2557f8f9be0>"
      ]
     },
     "execution_count": 54,
     "metadata": {},
     "output_type": "execute_result"
    },
    {
     "data": {
      "image/png": "[encoded data removed]",
      "text/plain": [
       "<Figure size 432x288 with 1 Axes>"
      ]
     },
     "metadata": {
      "needs_background": "light"
     },
     "output_type": "display_data"
    }
   ],
   "source": [
    "np.sqrt(data[data[\"survival\"]==1][\"fare\"]).plot.hist(bins=15,alpha=0.5,density=True)\n",
    "np.sqrt(data[data[\"survival\"]==0][\"fare\"]).plot.hist(bins=15,alpha=0.5,density=True)\n",
    "## sqrt scale 적용"
   ]
  },
  {
   "cell_type": "code",
   "execution_count": 46,
   "metadata": {
    "scrolled": true
   },
   "outputs": [
    {
     "data": {
      "text/plain": [
       "<matplotlib.axes._subplots.AxesSubplot at 0x2557f65af60>"
      ]
     },
     "execution_count": 46,
     "metadata": {},
     "output_type": "execute_result"
    },
    {
     "data": {
      "image/png": "[encoded data removed]",
      "text/plain": [
       "<Figure size 432x288 with 2 Axes>"
      ]
     },
     "metadata": {
      "needs_background": "light"
     },
     "output_type": "display_data"
    }
   ],
   "source": [
    "plt.subplot(121)\n",
    "(data[data[\"survival\"]==0].groupby(\"embarked\").size()/data[data[\"survival\"]==0].groupby(\"embarked\").size().sum()).plot.bar()\n",
    "plt.subplot(122)\n",
    "(data[data[\"survival\"]==1].groupby(\"embarked\").size()/data[data[\"survival\"]==1].groupby(\"embarked\").size().sum()).plot.bar()"
   ]
  },
  {
   "cell_type": "code",
   "execution_count": 76,
   "metadata": {},
   "outputs": [],
   "source": [
    "## cross 할만한 변수 찾기\n",
    "data[\"plcass_embarked\"]=data[\"pclass\"].apply(lambda x:str(x))+\"_\" + data[\"embarked\"]\n",
    "test[\"plcass_embarked\"]=test[\"pclass\"].apply(lambda x:str(x))+\"_\" + test[\"embarked\"]"
   ]
  },
  {
   "cell_type": "code",
   "execution_count": 68,
   "metadata": {},
   "outputs": [
    {
     "data": {
      "text/plain": [
       "<matplotlib.axes._subplots.AxesSubplot at 0x2557fc3cba8>"
      ]
     },
     "execution_count": 68,
     "metadata": {},
     "output_type": "execute_result"
    },
    {
     "data": {
      "image/png": "[encoded data removed]",
      "text/plain": [
       "<Figure size 432x288 with 2 Axes>"
      ]
     },
     "metadata": {
      "needs_background": "light"
     },
     "output_type": "display_data"
    }
   ],
   "source": [
    "plt.subplot(121)\n",
    "(data[data[\"survival\"]==0].groupby(\"plcass_embarked\").size()/data[data[\"survival\"]==0].groupby(\"plcass_embarked\").size().sum()).plot.bar()\n",
    "plt.subplot(122)\n",
    "(data[data[\"survival\"]==1].groupby(\"plcass_embarked\").size()/data[data[\"survival\"]==1].groupby(\"plcass_embarked\").size().sum()).plot.bar()"
   ]
  },
  {
   "cell_type": "code",
   "execution_count": 77,
   "metadata": {},
   "outputs": [],
   "source": [
    "data[\"plcass_sex\"]=data[\"pclass\"].apply(lambda x:str(x))+\"_\" + data[\"sex\"]\n",
    "test[\"plcass_sex\"]=test[\"pclass\"].apply(lambda x:str(x))+\"_\" + test[\"sex\"]\n"
   ]
  },
  {
   "cell_type": "code",
   "execution_count": 69,
   "metadata": {},
   "outputs": [
    {
     "data": {
      "text/plain": [
       "<matplotlib.axes._subplots.AxesSubplot at 0x2557fd371d0>"
      ]
     },
     "execution_count": 69,
     "metadata": {},
     "output_type": "execute_result"
    },
    {
     "data": {
      "image/png": "[encoded data removed]",
      "text/plain": [
       "<Figure size 432x288 with 2 Axes>"
      ]
     },
     "metadata": {
      "needs_background": "light"
     },
     "output_type": "display_data"
    }
   ],
   "source": [
    "plt.subplot(121)\n",
    "(data[data[\"survival\"]==0].groupby(\"plcass_sex\").size()/data[data[\"survival\"]==0].groupby(\"plcass_sex\").size().sum()).plot.bar()\n",
    "plt.subplot(122)\n",
    "(data[data[\"survival\"]==1].groupby(\"plcass_sex\").size()/data[data[\"survival\"]==1].groupby(\"plcass_sex\").size().sum()).plot.bar()"
   ]
  },
  {
   "cell_type": "code",
   "execution_count": 78,
   "metadata": {},
   "outputs": [],
   "source": [
    "data[\"embarked_sex\"]=data[\"embarked\"]+\"_\" + data[\"sex\"]\n",
    "test[\"embarked_sex\"]=test[\"embarked\"]+\"_\" + test[\"sex\"]\n"
   ]
  },
  {
   "cell_type": "code",
   "execution_count": 70,
   "metadata": {
    "scrolled": true
   },
   "outputs": [
    {
     "data": {
      "text/plain": [
       "<matplotlib.axes._subplots.AxesSubplot at 0x2557fddab70>"
      ]
     },
     "execution_count": 70,
     "metadata": {},
     "output_type": "execute_result"
    },
    {
     "data": {
      "image/png": "[encoded data removed]",
      "text/plain": [
       "<Figure size 432x288 with 2 Axes>"
      ]
     },
     "metadata": {
      "needs_background": "light"
     },
     "output_type": "display_data"
    }
   ],
   "source": [
    "plt.subplot(121)\n",
    "(data[data[\"survival\"]==0].groupby(\"embarked_sex\").size()/data[data[\"survival\"]==0].groupby(\"embarked_sex\").size().sum()).plot.bar()\n",
    "plt.subplot(122)\n",
    "(data[data[\"survival\"]==1].groupby(\"embarked_sex\").size()/data[data[\"survival\"]==1].groupby(\"embarked_sex\").size().sum()).plot.bar()"
   ]
  },
  {
   "cell_type": "code",
   "execution_count": 75,
   "metadata": {},
   "outputs": [],
   "source": [
    "def df_to_dataset(dataframe,shuffle=True,batch_size=32):\n",
    "    dataframe = dataframe.copy()\n",
    "    labels = dataframe.pop('survival') # target변수 빼고 다시 데이터셋 구성\n",
    "    ds = tf.data.Dataset.from_tensor_slices((dict(dataframe),labels)) # tf.data.Dataset은 Pandas 못받아들임 , dict형태로 변환    \n",
    "    if shuffle:\n",
    "        ds = ds.shuffle(buffer_size=len(dataframe))\n",
    "    ds = ds.batch(batch_size)\n",
    "    return ds"
   ]
  },
  {
   "cell_type": "code",
   "execution_count": 83,
   "metadata": {},
   "outputs": [],
   "source": [
    "## 0-16\n",
    "## 16-30\n",
    "## 30 -35\n",
    "## 35-40\n",
    "## 40-45\n",
    "## 45-55\n",
    "## 55-63\n",
    "## 63\n",
    "data[\"pclass\"] = data[\"pclass\"].apply(lambda x:str(x))\n",
    "test[\"pclass\"] = test[\"pclass\"].apply(lambda x:str(x))\n",
    "data[\"fare\"] = data[\"fare\"].apply(lambda x:np.sqrt(x))\n",
    "test[\"fare\"] = test[\"fare\"].apply(lambda x:np.sqrt(x))\n"
   ]
  },
  {
   "cell_type": "code",
   "execution_count": 82,
   "metadata": {},
   "outputs": [
    {
     "data": {
      "text/plain": [
       "Index(['pclass', 'name', 'sex', 'age', 'sibsp', 'parch', 'ticket', 'fare',\n",
       "       'embarked', 'survival', 'plcass_embarked', 'plcass_sex',\n",
       "       'embarked_sex'],\n",
       "      dtype='object')"
      ]
     },
     "execution_count": 82,
     "metadata": {},
     "output_type": "execute_result"
    }
   ],
   "source": [
    "data.columns"
   ]
  },
  {
   "cell_type": "code",
   "execution_count": 142,
   "metadata": {},
   "outputs": [],
   "source": [
    "tf.keras.backend.clear_session() # 전체 초기화"
   ]
  },
  {
   "cell_type": "code",
   "execution_count": 143,
   "metadata": {},
   "outputs": [],
   "source": [
    "feature_columns = [] # 사용할 feature_column이 저장될 곳\n",
    "\n",
    "feature_input = {}\n",
    "\n",
    "# 수치형 열\n",
    "for header in ['age', 'sibsp', 'parch',\"fare\"]:\n",
    "    feature_columns.append(tf.feature_column.numeric_column(header))\n",
    "    feature_input[header] = tf.keras.Input(shape=(1,),dtype=tf.float64,name=header)\n",
    "    \n",
    "# 버킷형 열\n",
    "age_buckets = tf.feature_column.bucketized_column(feature_columns[0], boundaries=[16, 30, 35, 40, 45, 55, 63])\n",
    "\n",
    "feature_columns.append(age_buckets)\n",
    "\n",
    "\n",
    "# 범주형 열\n",
    "cate_col=[]\n",
    "for header in [\"pclass\",\"sex\",\"embarked\"]:\n",
    "    cate_col.append(tf.feature_column.categorical_column_with_vocabulary_list(header, data[header].unique()))\n",
    "    feature_input[header] = tf.keras.Input(shape=(1,),dtype=tf.string,name=header)\n",
    "\n",
    "\n",
    "# 교차 특성 열\n",
    "crossed_feature1 = tf.feature_column.crossed_column([cate_col[0], cate_col[1]], hash_bucket_size=4)#pclass sex\n",
    "crossed_feature1 = tf.feature_column.embedding_column(crossed_feature1,dimension=2)\n",
    "feature_columns.append(crossed_feature1)\n",
    "crossed_feature2 = tf.feature_column.crossed_column([cate_col[1], cate_col[2]], hash_bucket_size=4) # sex embarked\n",
    "crossed_feature2 = tf.feature_column.embedding_column(crossed_feature2,dimension=2)\n",
    "feature_columns.append(crossed_feature2)\n",
    "crossed_feature3 = tf.feature_column.crossed_column([cate_col[0], cate_col[2]], hash_bucket_size=4)# plcass embarked\n",
    "crossed_feature3 = tf.feature_column.embedding_column(crossed_feature3,dimension=2)\n",
    "feature_columns.append(crossed_feature3)\n",
    "\n"
   ]
  },
  {
   "cell_type": "code",
   "execution_count": 144,
   "metadata": {},
   "outputs": [
    {
     "name": "stdout",
     "output_type": "stream",
     "text": [
      "WARNING:tensorflow:Layer dense_features is casting an input tensor from dtype float64 to the layer's dtype of float32, which is new behavior in TensorFlow 2.  The layer has dtype float32 because it's dtype defaults to floatx.\n",
      "\n",
      "If you intended to run this layer in float32, you can safely ignore this warning. If in doubt, this warning is likely only an issue if you are porting a TensorFlow 1.X model to TensorFlow 2.\n",
      "\n",
      "To change all layers to have dtype float64 by default, call `tf.keras.backend.set_floatx('float64')`. To change just this layer, pass dtype='float64' to the layer constructor. If you are the author of this layer, you can disable autocasting by passing autocast=False to the base Layer constructor.\n",
      "\n"
     ]
    }
   ],
   "source": [
    "feature_layer = tf.keras.layers.DenseFeatures(feature_columns=feature_columns)\n",
    "\n",
    "f_layer = feature_layer(feature_input)"
   ]
  },
  {
   "cell_type": "code",
   "execution_count": 145,
   "metadata": {},
   "outputs": [],
   "source": [
    "batch_size = 10\n",
    "train,validation=train_test_split(data,test_size=0.3)\n",
    "train_ds = df_to_dataset(train,batch_size=batch_size)\n",
    "val_ds = df_to_dataset(validation,shuffle=False,batch_size=batch_size) # validation과 test는 셔플 할 필요가 없기에 패스\n",
    "test_ds = df_to_dataset(test,shuffle=False,batch_size=batch_size) "
   ]
  },
  {
   "cell_type": "code",
   "execution_count": 146,
   "metadata": {},
   "outputs": [],
   "source": [
    "hidden1 = tf.keras.layers.Dense(128,activation=\"relu\",dtype=tf.float64)(f_layer)\n",
    "hidden2 = tf.keras.layers.Dense(128,activation=\"relu\",dtype=tf.float64)(hidden1)\n",
    "output = tf.keras.layers.Dense(1,activation=\"sigmoid\",dtype=tf.float64)(hidden2)"
   ]
  },
  {
   "cell_type": "code",
   "execution_count": 147,
   "metadata": {},
   "outputs": [],
   "source": [
    "Model=tf.keras.models.Model(inputs=feature_input,outputs=output)"
   ]
  },
  {
   "cell_type": "code",
   "execution_count": 148,
   "metadata": {},
   "outputs": [],
   "source": [
    "Model.compile(optimizer='adam',\n",
    "              loss='binary_crossentropy',\n",
    "              metrics=['accuracy'])"
   ]
  },
  {
   "cell_type": "code",
   "execution_count": 153,
   "metadata": {
    "scrolled": false
   },
   "outputs": [
    {
     "name": "stdout",
     "output_type": "stream",
     "text": [
      "Epoch 1/3\n",
      "52/52 [==============================] - 2s 34ms/step - loss: 0.4647 - accuracy: 0.8023 - val_loss: 0.0000e+00 - val_accuracy: 0.0000e+00\n",
      "Epoch 2/3\n",
      "52/52 [==============================] - 2s 40ms/step - loss: 0.4329 - accuracy: 0.7945 - val_loss: 0.4006 - val_accuracy: 0.8356\n",
      "Epoch 3/3\n",
      "52/52 [==============================] - 2s 39ms/step - loss: 0.4582 - accuracy: 0.7886 - val_loss: 0.4162 - val_accuracy: 0.8493\n"
     ]
    }
   ],
   "source": [
    "history = Model.fit(train_ds,validation_data=val_ds,epochs=3)"
   ]
  },
  {
   "cell_type": "code",
   "execution_count": 150,
   "metadata": {},
   "outputs": [
    {
     "data": {
      "text/plain": [
       "<matplotlib.legend.Legend at 0x256273e28d0>"
      ]
     },
     "execution_count": 150,
     "metadata": {},
     "output_type": "execute_result"
    },
    {
     "data": {
      "image/png": "[encoded data removed]",
      "text/plain": [
       "<Figure size 720x360 with 1 Axes>"
      ]
     },
     "metadata": {
      "needs_background": "light"
     },
     "output_type": "display_data"
    }
   ],
   "source": [
    "import matplotlib.pyplot as plt\n",
    "plt.figure(figsize=(10,5))\n",
    "plt.plot(history.epoch,history.history[\"loss\"],\"o-\",label=\"train\")\n",
    "plt.plot(history.epoch,history.history[\"val_loss\"],\"o-\",label=\"validation\")\n",
    "plt.xticks(range(len(history.epoch)), history.epoch)\n",
    "plt.legend()"
   ]
  },
  {
   "cell_type": "code",
   "execution_count": 154,
   "metadata": {
    "scrolled": true
   },
   "outputs": [
    {
     "name": "stdout",
     "output_type": "stream",
     "text": [
      "32/32 [==============================] - 0s 13ms/step - loss: 0.4726 - accuracy: 0.8051\n",
      "정확도 0.8051118\n"
     ]
    }
   ],
   "source": [
    "loss, accuracy = Model.evaluate(test_ds)\n",
    "print(\"정확도\", accuracy)"
   ]
  },
  {
   "cell_type": "code",
   "execution_count": 120,
   "metadata": {},
   "outputs": [],
   "source": [
    "## 학습한 model 구조 json 형태로 저장\n",
    "model_json = Model.to_json()\n",
    "with open(\"Model_titanic.json\",\"w\") as json_file:\n",
    "    json_file.write(model_json)"
   ]
  },
  {
   "cell_type": "code",
   "execution_count": 121,
   "metadata": {},
   "outputs": [
    {
     "name": "stdout",
     "output_type": "stream",
     "text": [
      "Saved model to disk\n"
     ]
    }
   ],
   "source": [
    "## 학습한 model weight 저장 .h5 형태\n",
    "Model.save_weights(\"Model_titanic.h5\")\n",
    "print(\"Saved model to disk\")"
   ]
  },
  {
   "cell_type": "code",
   "execution_count": 158,
   "metadata": {},
   "outputs": [],
   "source": [
    "json_file = open(\"Model_titanic.json\",\"r\")\n",
    "load_model = json_file.read()\n",
    "json_file.close()\n",
    "load_model = tf.keras.models.model_from_json(load_model)"
   ]
  },
  {
   "cell_type": "code",
   "execution_count": 160,
   "metadata": {},
   "outputs": [
    {
     "name": "stdout",
     "output_type": "stream",
     "text": [
      "Load model from disk\n"
     ]
    }
   ],
   "source": [
    "load_model.load_weights(\"Model_titanic.h5\")\n",
    "print(\"Load model from disk\")"
   ]
  },
  {
   "cell_type": "code",
   "execution_count": 162,
   "metadata": {},
   "outputs": [
    {
     "name": "stdout",
     "output_type": "stream",
     "text": [
      "32/32 [==============================] - 1s 38ms/step - loss: 0.4423 - accuracy: 0.8211\n"
     ]
    },
    {
     "data": {
      "text/plain": [
       "[0.4422937553637894, 0.8210863]"
      ]
     },
     "execution_count": 162,
     "metadata": {},
     "output_type": "execute_result"
    }
   ],
   "source": [
    "load_model.compile(loss=\"binary_crossentropy\", optimizer=\"adam\", metrics=['accuracy'])\n",
    "load_model.evaluate(test_ds)"
   ]
  },
  {
   "cell_type": "code",
   "execution_count": null,
   "metadata": {},
   "outputs": [],
   "source": []
  }
 ],
 "metadata": {
  "kernelspec": {
   "display_name": "Python 3",
   "language": "python",
   "name": "python3"
  },
  "language_info": {
   "codemirror_mode": {
    "name": "ipython",
    "version": 3
   },
   "file_extension": ".py",
   "mimetype": "text/x-python",
   "name": "python",
   "nbconvert_exporter": "python",
   "pygments_lexer": "ipython3",
   "version": "3.7.1"
  }
 },
 "nbformat": 4,
 "nbformat_minor": 2
}
